{
 "cells": [
  {
   "cell_type": "code",
   "execution_count": 13,
   "id": "0eceed07-6c9e-4b62-b6ab-becfb1860adb",
   "metadata": {},
   "outputs": [],
   "source": [
    "import numpy as np\n",
    "import pandas as pd"
   ]
  },
  {
   "cell_type": "code",
   "execution_count": 14,
   "id": "22effb34-b835-422a-a627-64642d593fff",
   "metadata": {},
   "outputs": [],
   "source": [
    "from sklearn.impute import SimpleImputer\n",
    "from sklearn.preprocessing import OneHotEncoder\n",
    "from sklearn.preprocessing import OrdinalEncoder\n",
    "from sklearn.preprocessing import LabelEncoder"
   ]
  },
  {
   "cell_type": "code",
   "execution_count": 15,
   "id": "ae12c650-2ded-44e9-bb8c-824ad2fd2065",
   "metadata": {},
   "outputs": [],
   "source": [
    "df=pd.read_csv('covid_toy.csv')"
   ]
  },
  {
   "cell_type": "code",
   "execution_count": 16,
   "id": "2f9c918a-84e2-464b-a266-47194f2d39ef",
   "metadata": {},
   "outputs": [
    {
     "data": {
      "text/html": [
       "<div>\n",
       "<style scoped>\n",
       "    .dataframe tbody tr th:only-of-type {\n",
       "        vertical-align: middle;\n",
       "    }\n",
       "\n",
       "    .dataframe tbody tr th {\n",
       "        vertical-align: top;\n",
       "    }\n",
       "\n",
       "    .dataframe thead th {\n",
       "        text-align: right;\n",
       "    }\n",
       "</style>\n",
       "<table border=\"1\" class=\"dataframe\">\n",
       "  <thead>\n",
       "    <tr style=\"text-align: right;\">\n",
       "      <th></th>\n",
       "      <th>age</th>\n",
       "      <th>gender</th>\n",
       "      <th>fever</th>\n",
       "      <th>cough</th>\n",
       "      <th>city</th>\n",
       "      <th>has_covid</th>\n",
       "    </tr>\n",
       "  </thead>\n",
       "  <tbody>\n",
       "    <tr>\n",
       "      <th>0</th>\n",
       "      <td>60</td>\n",
       "      <td>Male</td>\n",
       "      <td>103.0</td>\n",
       "      <td>Mild</td>\n",
       "      <td>Kolkata</td>\n",
       "      <td>No</td>\n",
       "    </tr>\n",
       "    <tr>\n",
       "      <th>1</th>\n",
       "      <td>27</td>\n",
       "      <td>Male</td>\n",
       "      <td>100.0</td>\n",
       "      <td>Mild</td>\n",
       "      <td>Delhi</td>\n",
       "      <td>Yes</td>\n",
       "    </tr>\n",
       "    <tr>\n",
       "      <th>2</th>\n",
       "      <td>42</td>\n",
       "      <td>Male</td>\n",
       "      <td>101.0</td>\n",
       "      <td>Mild</td>\n",
       "      <td>Delhi</td>\n",
       "      <td>No</td>\n",
       "    </tr>\n",
       "    <tr>\n",
       "      <th>3</th>\n",
       "      <td>31</td>\n",
       "      <td>Female</td>\n",
       "      <td>98.0</td>\n",
       "      <td>Mild</td>\n",
       "      <td>Kolkata</td>\n",
       "      <td>No</td>\n",
       "    </tr>\n",
       "    <tr>\n",
       "      <th>4</th>\n",
       "      <td>65</td>\n",
       "      <td>Female</td>\n",
       "      <td>101.0</td>\n",
       "      <td>Mild</td>\n",
       "      <td>Mumbai</td>\n",
       "      <td>No</td>\n",
       "    </tr>\n",
       "  </tbody>\n",
       "</table>\n",
       "</div>"
      ],
      "text/plain": [
       "   age  gender  fever cough     city has_covid\n",
       "0   60    Male  103.0  Mild  Kolkata        No\n",
       "1   27    Male  100.0  Mild    Delhi       Yes\n",
       "2   42    Male  101.0  Mild    Delhi        No\n",
       "3   31  Female   98.0  Mild  Kolkata        No\n",
       "4   65  Female  101.0  Mild   Mumbai        No"
      ]
     },
     "execution_count": 16,
     "metadata": {},
     "output_type": "execute_result"
    }
   ],
   "source": [
    "df.head()"
   ]
  },
  {
   "cell_type": "markdown",
   "id": "9d0f5099-264a-4edd-949b-f70789b40f3c",
   "metadata": {},
   "source": [
    "#### age is a numerical column with no missing values so we dont apply transformation on it\n",
    "#### fever is a numerical column with missing values so we apply SimpleImputer\n",
    "#### gender and city are nominal categorical columns so we apply OneHotEncoding \n",
    "#### cough is ordinal categorical column so we apply ordinal encoding\n",
    "#### has_covid is categorical target variable so we apply label encoder"
   ]
  },
  {
   "cell_type": "markdown",
   "id": "189d117e-64ea-4a0f-aafa-0d6118132807",
   "metadata": {},
   "source": [
    "# Train Test Split"
   ]
  },
  {
   "cell_type": "code",
   "execution_count": 17,
   "id": "4ba94404-cd20-4ccf-b590-ed2d2403b14f",
   "metadata": {},
   "outputs": [],
   "source": [
    "from sklearn.model_selection import train_test_split\n",
    "X=df.drop(['has_covid'], axis=1)\n",
    "y=df['has_covid']"
   ]
  },
  {
   "cell_type": "code",
   "execution_count": 18,
   "id": "bbff8a2a-db14-4deb-a242-2e954b72af3f",
   "metadata": {},
   "outputs": [],
   "source": [
    "X_train, X_test, y_train, y_test=train_test_split(X,y,test_size=0.2,random_state=0)"
   ]
  },
  {
   "cell_type": "markdown",
   "id": "df86d5af-c6bb-46ab-bf3b-2a8861e05f30",
   "metadata": {},
   "source": [
    "# Without using column transformer"
   ]
  },
  {
   "cell_type": "code",
   "execution_count": 19,
   "id": "964d15c6-e96b-4e6d-9a2d-65b44e05b2b5",
   "metadata": {},
   "outputs": [
    {
     "data": {
      "text/plain": [
       "((80, 1), (20, 1))"
      ]
     },
     "execution_count": 19,
     "metadata": {},
     "output_type": "execute_result"
    }
   ],
   "source": [
    "# simple imputer to fever col\n",
    "si=SimpleImputer()\n",
    "X_train_fever=si.fit_transform(X_train[['fever']])\n",
    "\n",
    "#test data\n",
    "X_test_fever=si.transform(X_test[['fever']])\n",
    "\n",
    "X_train_fever.shape, X_test_fever.shape"
   ]
  },
  {
   "cell_type": "code",
   "execution_count": 20,
   "id": "1a0994ce-0d8b-4aef-b4eb-ece540baaedb",
   "metadata": {},
   "outputs": [
    {
     "data": {
      "text/plain": [
       "((80, 1), (20, 1))"
      ]
     },
     "execution_count": 20,
     "metadata": {},
     "output_type": "execute_result"
    }
   ],
   "source": [
    "# ordinal encoding on cough\n",
    "oe=OrdinalEncoder(categories=[['Mild','Strong']])\n",
    "X_train_cough=oe.fit_transform(X_train[['cough']])\n",
    "\n",
    "#test data\n",
    "X_test_cough=oe.transform(X_test[['cough']])\n",
    "\n",
    "X_train_cough.shape, X_test_cough.shape"
   ]
  },
  {
   "cell_type": "code",
   "execution_count": 21,
   "id": "4d27b475-c671-49b4-91a9-9e8f62696628",
   "metadata": {},
   "outputs": [
    {
     "data": {
      "text/plain": [
       "((80, 4), (20, 4))"
      ]
     },
     "execution_count": 21,
     "metadata": {},
     "output_type": "execute_result"
    }
   ],
   "source": [
    "# onhehotencoding on gender and city\n",
    "ohe=OneHotEncoder(drop='first',sparse_output=False)\n",
    "X_train_gender_city=ohe.fit_transform(X_train[['gender','city']])\n",
    "\n",
    "#test data\n",
    "X_test_gender_city=ohe.transform(X_test[['gender','city']])\n",
    "\n",
    "X_train_gender_city.shape, X_test_gender_city.shape"
   ]
  },
  {
   "cell_type": "code",
   "execution_count": 24,
   "id": "a6f6dd0e-156f-49f4-a15e-5ac0671463a6",
   "metadata": {},
   "outputs": [
    {
     "data": {
      "text/plain": [
       "((80,), (20,))"
      ]
     },
     "execution_count": 24,
     "metadata": {},
     "output_type": "execute_result"
    }
   ],
   "source": [
    "# label encoder on has_covid\n",
    "le=LabelEncoder()\n",
    "y_train_covid=le.fit_transform(y_train)\n",
    "\n",
    "#test data\n",
    "y_test_covid=le.transform(y_test)\n",
    "\n",
    "y_train_covid.shape, y_test_covid.shape"
   ]
  },
  {
   "cell_type": "code",
   "execution_count": 25,
   "id": "a09cb1b1-531e-42ac-b2df-96548afdca47",
   "metadata": {},
   "outputs": [
    {
     "data": {
      "text/plain": [
       "((80, 1), (20, 1))"
      ]
     },
     "execution_count": 25,
     "metadata": {},
     "output_type": "execute_result"
    }
   ],
   "source": [
    "#Extracting age column\n",
    "X_train_age=X_train.drop(columns=['gender','fever','cough','city'])\n",
    "\n",
    "#test data\n",
    "X_test_age=X_test.drop(columns=['gender','fever','cough','city'])\n",
    "\n",
    "X_train_age.shape, X_test_age.shape"
   ]
  },
  {
   "cell_type": "code",
   "execution_count": 38,
   "id": "741759b9-84fa-4fb5-8f44-6961af09debd",
   "metadata": {},
   "outputs": [],
   "source": [
    "# concatenating all the numpy arrays\n",
    "X_train_transformed=np.concatenate((X_train_age,X_train_cough,X_train_fever,X_train_gender_city),axis=1)\n",
    "\n",
    "#test data\n",
    "X_test_transformed=np.concatenate((X_test_age,X_test_cough,X_test_fever,X_test_gender_city), axis=1)"
   ]
  },
  {
   "cell_type": "code",
   "execution_count": 39,
   "id": "250238f6-957f-4a1d-b2b4-a8ea06974520",
   "metadata": {},
   "outputs": [
    {
     "data": {
      "text/plain": [
       "array([[ 22.        ,   0.        ,  99.        ,   0.        ,\n",
       "          0.        ,   0.        ,   0.        ],\n",
       "       [ 56.        ,   1.        , 104.        ,   0.        ,\n",
       "          0.        ,   0.        ,   0.        ],\n",
       "       [ 31.        ,   0.        ,  98.        ,   0.        ,\n",
       "          0.        ,   1.        ,   0.        ],\n",
       "       [ 75.        ,   1.        , 104.        ,   0.        ,\n",
       "          1.        ,   0.        ,   0.        ],\n",
       "       [ 72.        ,   0.        ,  99.        ,   1.        ,\n",
       "          0.        ,   0.        ,   0.        ],\n",
       "       [ 66.        ,   1.        ,  99.        ,   1.        ,\n",
       "          0.        ,   0.        ,   0.        ],\n",
       "       [ 14.        ,   1.        , 101.        ,   1.        ,\n",
       "          0.        ,   0.        ,   0.        ],\n",
       "       [ 10.        ,   1.        ,  98.        ,   0.        ,\n",
       "          0.        ,   1.        ,   0.        ],\n",
       "       [ 24.        ,   0.        ,  98.        ,   1.        ,\n",
       "          0.        ,   1.        ,   0.        ],\n",
       "       [ 80.        ,   0.        , 100.        ,   1.        ,\n",
       "          0.        ,   0.        ,   0.        ],\n",
       "       [ 24.        ,   1.        , 102.        ,   0.        ,\n",
       "          0.        ,   0.        ,   0.        ],\n",
       "       [ 14.        ,   0.        ,  99.        ,   0.        ,\n",
       "          0.        ,   0.        ,   1.        ],\n",
       "       [ 59.        ,   1.        ,  99.        ,   0.        ,\n",
       "          1.        ,   0.        ,   0.        ],\n",
       "       [ 54.        ,   1.        , 104.        ,   0.        ,\n",
       "          0.        ,   1.        ,   0.        ],\n",
       "       [ 11.        ,   1.        , 100.        ,   0.        ,\n",
       "          0.        ,   1.        ,   0.        ],\n",
       "       [ 33.        ,   1.        , 102.        ,   0.        ,\n",
       "          1.        ,   0.        ,   0.        ],\n",
       "       [ 64.        ,   0.        ,  98.        ,   0.        ,\n",
       "          0.        ,   0.        ,   0.        ],\n",
       "       [ 71.        ,   1.        , 100.91549296,   1.        ,\n",
       "          0.        ,   1.        ,   0.        ],\n",
       "       [ 10.        ,   0.        , 100.        ,   1.        ,\n",
       "          0.        ,   0.        ,   0.        ],\n",
       "       [ 34.        ,   1.        , 104.        ,   0.        ,\n",
       "          1.        ,   0.        ,   0.        ],\n",
       "       [ 27.        ,   0.        , 100.        ,   1.        ,\n",
       "          1.        ,   0.        ,   0.        ],\n",
       "       [ 81.        ,   1.        ,  98.        ,   0.        ,\n",
       "          0.        ,   0.        ,   1.        ],\n",
       "       [ 27.        ,   0.        , 100.        ,   1.        ,\n",
       "          1.        ,   0.        ,   0.        ],\n",
       "       [ 82.        ,   0.        , 100.91549296,   1.        ,\n",
       "          0.        ,   1.        ,   0.        ],\n",
       "       [ 65.        ,   0.        , 101.        ,   0.        ,\n",
       "          0.        ,   0.        ,   1.        ],\n",
       "       [ 70.        ,   1.        , 103.        ,   1.        ,\n",
       "          0.        ,   1.        ,   0.        ],\n",
       "       [ 40.        ,   1.        ,  98.        ,   0.        ,\n",
       "          1.        ,   0.        ,   0.        ],\n",
       "       [ 49.        ,   0.        , 102.        ,   0.        ,\n",
       "          1.        ,   0.        ,   0.        ],\n",
       "       [ 49.        ,   0.        , 101.        ,   0.        ,\n",
       "          1.        ,   0.        ,   0.        ],\n",
       "       [ 84.        ,   0.        , 100.91549296,   0.        ,\n",
       "          0.        ,   0.        ,   0.        ],\n",
       "       [ 38.        ,   0.        , 100.91549296,   1.        ,\n",
       "          1.        ,   0.        ,   0.        ],\n",
       "       [  6.        ,   0.        , 104.        ,   0.        ,\n",
       "          0.        ,   1.        ,   0.        ],\n",
       "       [ 60.        ,   0.        , 103.        ,   1.        ,\n",
       "          0.        ,   1.        ,   0.        ],\n",
       "       [ 74.        ,   0.        , 102.        ,   1.        ,\n",
       "          0.        ,   0.        ,   1.        ],\n",
       "       [ 16.        ,   0.        , 104.        ,   1.        ,\n",
       "          0.        ,   1.        ,   0.        ],\n",
       "       [ 19.        ,   0.        , 101.        ,   1.        ,\n",
       "          1.        ,   0.        ,   0.        ],\n",
       "       [ 65.        ,   0.        ,  98.        ,   0.        ,\n",
       "          0.        ,   0.        ,   1.        ],\n",
       "       [ 82.        ,   1.        , 102.        ,   0.        ,\n",
       "          0.        ,   0.        ,   0.        ],\n",
       "       [ 80.        ,   0.        ,  98.        ,   0.        ,\n",
       "          1.        ,   0.        ,   0.        ],\n",
       "       [ 47.        ,   1.        , 100.        ,   0.        ,\n",
       "          0.        ,   0.        ,   0.        ],\n",
       "       [ 75.        ,   0.        , 100.91549296,   0.        ,\n",
       "          1.        ,   0.        ,   0.        ],\n",
       "       [ 83.        ,   0.        , 103.        ,   1.        ,\n",
       "          0.        ,   1.        ,   0.        ],\n",
       "       [ 51.        ,   0.        , 104.        ,   1.        ,\n",
       "          0.        ,   1.        ,   0.        ],\n",
       "       [ 49.        ,   1.        ,  99.        ,   0.        ,\n",
       "          0.        ,   0.        ,   0.        ],\n",
       "       [ 48.        ,   0.        , 103.        ,   0.        ,\n",
       "          0.        ,   1.        ,   0.        ],\n",
       "       [ 16.        ,   0.        , 103.        ,   0.        ,\n",
       "          0.        ,   0.        ,   0.        ],\n",
       "       [ 34.        ,   1.        , 101.        ,   0.        ,\n",
       "          1.        ,   0.        ,   0.        ],\n",
       "       [ 69.        ,   1.        ,  98.        ,   0.        ,\n",
       "          0.        ,   0.        ,   1.        ],\n",
       "       [ 51.        ,   0.        , 104.        ,   1.        ,\n",
       "          0.        ,   0.        ,   0.        ],\n",
       "       [ 46.        ,   1.        , 103.        ,   1.        ,\n",
       "          0.        ,   0.        ,   0.        ],\n",
       "       [ 42.        ,   1.        , 100.91549296,   0.        ,\n",
       "          0.        ,   0.        ,   0.        ],\n",
       "       [ 34.        ,   1.        , 100.91549296,   0.        ,\n",
       "          0.        ,   0.        ,   1.        ],\n",
       "       [ 44.        ,   0.        , 104.        ,   1.        ,\n",
       "          0.        ,   0.        ,   1.        ],\n",
       "       [ 20.        ,   0.        , 101.        ,   0.        ,\n",
       "          0.        ,   0.        ,   0.        ],\n",
       "       [  5.        ,   1.        ,  98.        ,   0.        ,\n",
       "          0.        ,   0.        ,   1.        ],\n",
       "       [ 73.        ,   0.        , 103.        ,   0.        ,\n",
       "          1.        ,   0.        ,   0.        ],\n",
       "       [ 12.        ,   1.        ,  98.        ,   1.        ,\n",
       "          0.        ,   0.        ,   0.        ],\n",
       "       [ 79.        ,   1.        , 100.91549296,   1.        ,\n",
       "          0.        ,   1.        ,   0.        ],\n",
       "       [ 83.        ,   0.        , 101.        ,   0.        ,\n",
       "          0.        ,   1.        ,   0.        ],\n",
       "       [  8.        ,   0.        , 101.        ,   0.        ,\n",
       "          0.        ,   1.        ,   0.        ],\n",
       "       [ 23.        ,   0.        , 100.91549296,   1.        ,\n",
       "          0.        ,   0.        ,   1.        ],\n",
       "       [ 55.        ,   0.        , 100.        ,   1.        ,\n",
       "          0.        ,   1.        ,   0.        ],\n",
       "       [ 65.        ,   0.        ,  99.        ,   1.        ,\n",
       "          1.        ,   0.        ,   0.        ],\n",
       "       [ 19.        ,   0.        , 101.        ,   0.        ,\n",
       "          0.        ,   0.        ,   1.        ],\n",
       "       [ 50.        ,   0.        , 103.        ,   0.        ,\n",
       "          0.        ,   1.        ,   0.        ],\n",
       "       [ 69.        ,   0.        , 102.        ,   0.        ,\n",
       "          0.        ,   0.        ,   0.        ],\n",
       "       [ 23.        ,   1.        ,  98.        ,   1.        ,\n",
       "          0.        ,   0.        ,   1.        ],\n",
       "       [ 25.        ,   1.        ,  99.        ,   0.        ,\n",
       "          0.        ,   1.        ,   0.        ],\n",
       "       [  5.        ,   0.        , 100.        ,   0.        ,\n",
       "          0.        ,   1.        ,   0.        ],\n",
       "       [ 68.        ,   1.        , 101.        ,   0.        ,\n",
       "          1.        ,   0.        ,   0.        ],\n",
       "       [ 47.        ,   1.        , 101.        ,   1.        ,\n",
       "          0.        ,   0.        ,   0.        ],\n",
       "       [ 38.        ,   0.        , 101.        ,   0.        ,\n",
       "          0.        ,   0.        ,   0.        ],\n",
       "       [ 73.        ,   0.        ,  98.        ,   1.        ,\n",
       "          0.        ,   0.        ,   0.        ],\n",
       "       [ 17.        ,   0.        , 104.        ,   0.        ,\n",
       "          0.        ,   1.        ,   0.        ],\n",
       "       [ 64.        ,   0.        , 101.        ,   0.        ,\n",
       "          1.        ,   0.        ,   0.        ],\n",
       "       [ 51.        ,   1.        , 101.        ,   0.        ,\n",
       "          0.        ,   1.        ,   0.        ],\n",
       "       [ 65.        ,   0.        ,  99.        ,   1.        ,\n",
       "          0.        ,   0.        ,   0.        ],\n",
       "       [ 42.        ,   0.        , 104.        ,   1.        ,\n",
       "          0.        ,   0.        ,   1.        ],\n",
       "       [ 18.        ,   0.        , 104.        ,   0.        ,\n",
       "          0.        ,   0.        ,   0.        ],\n",
       "       [ 20.        ,   1.        , 102.        ,   1.        ,\n",
       "          1.        ,   0.        ,   0.        ]])"
      ]
     },
     "execution_count": 39,
     "metadata": {},
     "output_type": "execute_result"
    }
   ],
   "source": [
    "X_train_transformed"
   ]
  },
  {
   "cell_type": "code",
   "execution_count": 40,
   "id": "dea21cd2-7a66-4e56-a85a-2cc73a344a09",
   "metadata": {},
   "outputs": [
    {
     "data": {
      "text/plain": [
       "array([[ 19.        ,   0.        , 100.        ,   0.        ,\n",
       "          0.        ,   1.        ,   0.        ],\n",
       "       [ 25.        ,   0.        , 104.        ,   1.        ,\n",
       "          0.        ,   0.        ,   0.        ],\n",
       "       [ 42.        ,   0.        , 101.        ,   1.        ,\n",
       "          1.        ,   0.        ,   0.        ],\n",
       "       [ 81.        ,   0.        , 101.        ,   0.        ,\n",
       "          0.        ,   0.        ,   1.        ],\n",
       "       [  5.        ,   0.        , 102.        ,   1.        ,\n",
       "          0.        ,   1.        ,   0.        ],\n",
       "       [ 27.        ,   0.        , 100.        ,   1.        ,\n",
       "          0.        ,   1.        ,   0.        ],\n",
       "       [ 69.        ,   0.        , 103.        ,   0.        ,\n",
       "          0.        ,   1.        ,   0.        ],\n",
       "       [ 34.        ,   1.        ,  98.        ,   1.        ,\n",
       "          0.        ,   1.        ,   0.        ],\n",
       "       [ 60.        ,   0.        ,  99.        ,   0.        ,\n",
       "          0.        ,   0.        ,   1.        ],\n",
       "       [ 12.        ,   0.        , 104.        ,   0.        ,\n",
       "          0.        ,   0.        ,   0.        ],\n",
       "       [ 83.        ,   0.        ,  98.        ,   1.        ,\n",
       "          1.        ,   0.        ,   0.        ],\n",
       "       [ 82.        ,   1.        , 102.        ,   0.        ,\n",
       "          0.        ,   1.        ,   0.        ],\n",
       "       [ 11.        ,   0.        , 100.        ,   1.        ,\n",
       "          0.        ,   0.        ,   0.        ],\n",
       "       [ 64.        ,   0.        , 102.        ,   1.        ,\n",
       "          0.        ,   0.        ,   0.        ],\n",
       "       [ 20.        ,   1.        , 100.91549296,   0.        ,\n",
       "          0.        ,   0.        ,   1.        ],\n",
       "       [ 15.        ,   0.        , 101.        ,   1.        ,\n",
       "          1.        ,   0.        ,   0.        ],\n",
       "       [ 71.        ,   1.        ,  98.        ,   0.        ,\n",
       "          0.        ,   1.        ,   0.        ],\n",
       "       [ 13.        ,   1.        , 100.        ,   0.        ,\n",
       "          0.        ,   1.        ,   0.        ],\n",
       "       [ 26.        ,   0.        ,  98.        ,   0.        ,\n",
       "          0.        ,   1.        ,   0.        ],\n",
       "       [ 19.        ,   1.        , 100.        ,   0.        ,\n",
       "          0.        ,   0.        ,   0.        ]])"
      ]
     },
     "execution_count": 40,
     "metadata": {},
     "output_type": "execute_result"
    }
   ],
   "source": [
    "X_test_transformed"
   ]
  },
  {
   "cell_type": "markdown",
   "id": "60692923-95e0-44ab-8552-845eae312631",
   "metadata": {},
   "source": [
    "# Using Column Transformer"
   ]
  },
  {
   "cell_type": "code",
   "execution_count": 41,
   "id": "7249bc23-112b-49b4-97c4-afb3a594a0a2",
   "metadata": {},
   "outputs": [],
   "source": [
    "from sklearn.compose import ColumnTransformer"
   ]
  },
  {
   "cell_type": "code",
   "execution_count": 43,
   "id": "a38ff597-c9c5-44dc-8e15-ad6e5ff0c92b",
   "metadata": {},
   "outputs": [],
   "source": [
    "transformer=ColumnTransformer(transformers=[\n",
    "    ('tnf1', SimpleImputer(),['fever']),\n",
    "    ('tnf2', OrdinalEncoder(categories=[['Mild','Strong']]),['cough']),\n",
    "    ('tnf3', OneHotEncoder(sparse_output=False,drop='first'),['gender','city'])\n",
    "],remainder='passthrough')"
   ]
  },
  {
   "cell_type": "code",
   "execution_count": 46,
   "id": "26140e0a-0d6e-4248-a45d-3b1c8138cfb5",
   "metadata": {},
   "outputs": [],
   "source": [
    "X_train_trans=transformer.fit_transform(X_train)\n",
    "X_test_trans=transformer.transform(X_test)"
   ]
  },
  {
   "cell_type": "code",
   "execution_count": 47,
   "id": "2174eb61-f838-4a8e-8ae1-a972f4caffc6",
   "metadata": {},
   "outputs": [
    {
     "data": {
      "text/plain": [
       "(80, 7)"
      ]
     },
     "execution_count": 47,
     "metadata": {},
     "output_type": "execute_result"
    }
   ],
   "source": [
    "X_train_trans.shape"
   ]
  },
  {
   "cell_type": "code",
   "execution_count": 48,
   "id": "54b91fce-d6fb-41ec-af1e-c3610c4c46bb",
   "metadata": {},
   "outputs": [
    {
     "data": {
      "text/plain": [
       "(20, 7)"
      ]
     },
     "execution_count": 48,
     "metadata": {},
     "output_type": "execute_result"
    }
   ],
   "source": [
    "X_test_trans.shape"
   ]
  },
  {
   "cell_type": "markdown",
   "id": "c447a9a9-584c-4d5c-a081-4e39aa8c07d2",
   "metadata": {},
   "source": [
    "##### transformer=ColumnTransformer(transformers=[\n",
    "#####    ('transformer_name', Transformation_applied, ['column_name'])\n",
    "##### ]remainder='passthrough')\n",
    "##### remainder is for the remaining columns\n",
    "##### either they can passthrough or they can be dropped\n",
    "##### passthrough will let them remain as they are the transformations won't be applied on them"
   ]
  },
  {
   "cell_type": "code",
   "execution_count": null,
   "id": "0a1a734c-d9cb-4a6e-84c0-1d9b4e707b00",
   "metadata": {},
   "outputs": [],
   "source": []
  }
 ],
 "metadata": {
  "kernelspec": {
   "display_name": "Python 3 (ipykernel)",
   "language": "python",
   "name": "python3"
  },
  "language_info": {
   "codemirror_mode": {
    "name": "ipython",
    "version": 3
   },
   "file_extension": ".py",
   "mimetype": "text/x-python",
   "name": "python",
   "nbconvert_exporter": "python",
   "pygments_lexer": "ipython3",
   "version": "3.11.4"
  }
 },
 "nbformat": 4,
 "nbformat_minor": 5
}
